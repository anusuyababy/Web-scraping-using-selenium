{
 "cells": [
  {
   "cell_type": "code",
   "execution_count": 1,
   "id": "e6ea7dd8",
   "metadata": {},
   "outputs": [],
   "source": [
    "from selenium import webdriver\n",
    "from selenium.common import exceptions\n",
    "import pandas as pd"
   ]
  },
  {
   "cell_type": "code",
   "execution_count": 2,
   "id": "709ada70",
   "metadata": {},
   "outputs": [],
   "source": [
    "#https://www.walmart.com/reviews/product/14898365?page=5&sort=submission-desc"
   ]
  },
  {
   "cell_type": "code",
   "execution_count": 3,
   "id": "415e91ea",
   "metadata": {},
   "outputs": [],
   "source": [
    "browser = webdriver.Chrome('chromedriver.exe')"
   ]
  },
  {
   "cell_type": "code",
   "execution_count": 4,
   "id": "954fc5ee",
   "metadata": {},
   "outputs": [],
   "source": [
    "browser.get('https://www.walmart.com/reviews/product/14898365')"
   ]
  },
  {
   "cell_type": "code",
   "execution_count": 5,
   "id": "bfb58c03",
   "metadata": {},
   "outputs": [],
   "source": [
    "title = browser.find_elements_by_xpath('//h3[@class=\"review-title font-bold\"]')"
   ]
  },
  {
   "cell_type": "code",
   "execution_count": 6,
   "id": "93ee1f49",
   "metadata": {},
   "outputs": [],
   "source": [
    "date = browser.find_elements_by_xpath('//span[@class=\"review-date-submissionTime\"]')"
   ]
  },
  {
   "cell_type": "code",
   "execution_count": 7,
   "id": "f7002f56",
   "metadata": {},
   "outputs": [],
   "source": [
    "reviewer = browser.find_elements_by_xpath('//span[@class=\"review-footer-userNickname\"]')"
   ]
  },
  {
   "cell_type": "code",
   "execution_count": 8,
   "id": "94f3d632",
   "metadata": {},
   "outputs": [],
   "source": [
    "review = browser.find_elements_by_xpath('//div[@class=\"review-text\"]')"
   ]
  },
  {
   "cell_type": "code",
   "execution_count": 9,
   "id": "12aee7fe",
   "metadata": {},
   "outputs": [],
   "source": [
    "rating = browser.find_elements_by_xpath('//span[@class=\"visuallyhidden seo-avg-rating\"]')"
   ]
  },
  {
   "cell_type": "code",
   "execution_count": 10,
   "id": "a58116f1",
   "metadata": {},
   "outputs": [],
   "source": [
    "date_list = []\n",
    "for p in range(len(date)):\n",
    "    date_list.append(date[p].text)"
   ]
  },
  {
   "cell_type": "code",
   "execution_count": 11,
   "id": "f82af915",
   "metadata": {},
   "outputs": [],
   "source": [
    "reviewer_list = []\n",
    "for q in range(len(reviewer)):\n",
    "    reviewer_list.append(reviewer[q].text)"
   ]
  },
  {
   "cell_type": "code",
   "execution_count": 12,
   "id": "40700342",
   "metadata": {},
   "outputs": [],
   "source": [
    "title_list = []\n",
    "for r in range(len(title)):\n",
    "    title_list.append(title[r].text)"
   ]
  },
  {
   "cell_type": "code",
   "execution_count": 13,
   "id": "ff5a2c2a",
   "metadata": {},
   "outputs": [],
   "source": [
    "review_list = []\n",
    "for s in range(len(review)):\n",
    "    review_list.append(review[s].text)"
   ]
  },
  {
   "cell_type": "code",
   "execution_count": 14,
   "id": "eb5835da",
   "metadata": {},
   "outputs": [],
   "source": [
    "rating_list = []\n",
    "for t in range(len(rating)):\n",
    "    rating_list.append(rating[t].text)"
   ]
  },
  {
   "cell_type": "code",
   "execution_count": 15,
   "id": "a5471f5d",
   "metadata": {},
   "outputs": [],
   "source": [
    "data_tuples = list(zip(date_list[1:], reviewer_list[1:], title_list[1:], review_list[1:], rating_list[1:])) # list of each players name and salary paired together\n",
    "df = pd.DataFrame(data_tuples, columns=['Date', 'Reviewer Name', 'Title', 'Review', 'Rating'])"
   ]
  },
  {
   "cell_type": "code",
   "execution_count": 16,
   "id": "ca11e520",
   "metadata": {},
   "outputs": [
    {
     "data": {
      "text/html": [
       "<div>\n",
       "<style scoped>\n",
       "    .dataframe tbody tr th:only-of-type {\n",
       "        vertical-align: middle;\n",
       "    }\n",
       "\n",
       "    .dataframe tbody tr th {\n",
       "        vertical-align: top;\n",
       "    }\n",
       "\n",
       "    .dataframe thead th {\n",
       "        text-align: right;\n",
       "    }\n",
       "</style>\n",
       "<table border=\"1\" class=\"dataframe\">\n",
       "  <thead>\n",
       "    <tr style=\"text-align: right;\">\n",
       "      <th></th>\n",
       "      <th>Date</th>\n",
       "      <th>Reviewer Name</th>\n",
       "      <th>Title</th>\n",
       "      <th>Review</th>\n",
       "      <th>Rating</th>\n",
       "    </tr>\n",
       "  </thead>\n",
       "  <tbody>\n",
       "    <tr>\n",
       "      <th>0</th>\n",
       "      <td>December 23, 2020</td>\n",
       "      <td>Jessica</td>\n",
       "      <td>Great Product!</td>\n",
       "      <td>Love these! They last long in our vehicles eve...</td>\n",
       "      <td></td>\n",
       "    </tr>\n",
       "    <tr>\n",
       "      <th>1</th>\n",
       "      <td>April 10, 2021</td>\n",
       "      <td>Yoshira</td>\n",
       "      <td>Not really fit for shipping.</td>\n",
       "      <td>Product is great! only issue was either the pa...</td>\n",
       "      <td></td>\n",
       "    </tr>\n",
       "    <tr>\n",
       "      <th>2</th>\n",
       "      <td>December 27, 2020</td>\n",
       "      <td>TampaDeb</td>\n",
       "      <td>Open containers</td>\n",
       "      <td>All three containers leaked in transit. I use ...</td>\n",
       "      <td>5.0</td>\n",
       "    </tr>\n",
       "    <tr>\n",
       "      <th>3</th>\n",
       "      <td>July 29, 2020</td>\n",
       "      <td>lamis</td>\n",
       "      <td>Damaged</td>\n",
       "      <td>Of course I love the Clorox wipes. My problem ...</td>\n",
       "      <td>1.0</td>\n",
       "    </tr>\n",
       "    <tr>\n",
       "      <th>4</th>\n",
       "      <td>May 16, 2020</td>\n",
       "      <td>Alison</td>\n",
       "      <td>Awful</td>\n",
       "      <td>I was so happy to find these in stock, finally...</td>\n",
       "      <td>5.0</td>\n",
       "    </tr>\n",
       "  </tbody>\n",
       "</table>\n",
       "</div>"
      ],
      "text/plain": [
       "                Date Reviewer Name                         Title  \\\n",
       "0  December 23, 2020       Jessica                Great Product!   \n",
       "1     April 10, 2021       Yoshira  Not really fit for shipping.   \n",
       "2  December 27, 2020      TampaDeb               Open containers   \n",
       "3      July 29, 2020         lamis                       Damaged   \n",
       "4       May 16, 2020        Alison                         Awful   \n",
       "\n",
       "                                              Review Rating  \n",
       "0  Love these! They last long in our vehicles eve...         \n",
       "1  Product is great! only issue was either the pa...         \n",
       "2  All three containers leaked in transit. I use ...    5.0  \n",
       "3  Of course I love the Clorox wipes. My problem ...    1.0  \n",
       "4  I was so happy to find these in stock, finally...    5.0  "
      ]
     },
     "execution_count": 16,
     "metadata": {},
     "output_type": "execute_result"
    }
   ],
   "source": [
    "df.head()"
   ]
  },
  {
   "cell_type": "code",
   "execution_count": 17,
   "id": "fce9268e",
   "metadata": {},
   "outputs": [
    {
     "data": {
      "text/plain": [
       "(12, 5)"
      ]
     },
     "execution_count": 17,
     "metadata": {},
     "output_type": "execute_result"
    }
   ],
   "source": [
    "df.shape"
   ]
  }
 ],
 "metadata": {
  "kernelspec": {
   "display_name": "Python 3",
   "language": "python",
   "name": "python3"
  },
  "language_info": {
   "codemirror_mode": {
    "name": "ipython",
    "version": 3
   },
   "file_extension": ".py",
   "mimetype": "text/x-python",
   "name": "python",
   "nbconvert_exporter": "python",
   "pygments_lexer": "ipython3",
   "version": "3.8.10"
  }
 },
 "nbformat": 4,
 "nbformat_minor": 5
}
