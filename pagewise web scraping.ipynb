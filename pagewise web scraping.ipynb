{
 "cells": [
  {
   "cell_type": "code",
   "execution_count": 17,
   "id": "46f687a8",
   "metadata": {},
   "outputs": [],
   "source": [
    "from selenium import webdriver\n",
    "from selenium.common import exceptions\n",
    "import pandas as pd"
   ]
  },
  {
   "cell_type": "code",
   "execution_count": 18,
   "id": "cf00e252",
   "metadata": {},
   "outputs": [],
   "source": [
    "browser = webdriver.Chrome('chromedriver.exe')"
   ]
  },
  {
   "cell_type": "code",
   "execution_count": 19,
   "id": "03c626f1",
   "metadata": {},
   "outputs": [],
   "source": [
    "browser.get('https://www.walmart.com/reviews/product/14898365?page=1&sort=submission-desc')"
   ]
  },
  {
   "cell_type": "code",
   "execution_count": 20,
   "id": "da8b161f",
   "metadata": {},
   "outputs": [],
   "source": [
    "title = browser.find_elements_by_xpath('//h3[@class=\"review-title font-bold\"]')\n",
    "date = browser.find_elements_by_xpath('//span[@class=\"review-date-submissionTime\"]')\n",
    "reviewer = browser.find_elements_by_xpath('//span[@class=\"review-footer-userNickname\"]')\n",
    "review = browser.find_elements_by_xpath('//div[@class=\"review-text\"]')\n",
    "rating = browser.find_elements_by_xpath('//span[@class=\"visuallyhidden seo-avg-rating\"]')"
   ]
  },
  {
   "cell_type": "code",
   "execution_count": 21,
   "id": "6101a26d",
   "metadata": {},
   "outputs": [],
   "source": [
    "element_list = []\n",
    "for i in range(len(title)):\n",
    "    element_list.append([title[i].text, date[i].text, reviewer[i].text, review[i].text, rating[i].text])"
   ]
  },
  {
   "cell_type": "code",
   "execution_count": 22,
   "id": "0049e47e",
   "metadata": {},
   "outputs": [
    {
     "name": "stdout",
     "output_type": "stream",
     "text": [
      "[['Protecting those you love.', 'August 1, 2021', 'Ro', 'Love these, very easy to use', '4.8'], ['Always the best', 'August 1, 2021', 'Maryellen', 'Very confident in using these wipes on surfaces. With viruses you can never be to safe in protecting those you love.', ''], ['Very nice deal reasonably priced', 'July 31, 2021', 'Miriam', 'They are early in more days. Thank you.', ''], ['Hands Down The Best Wipe Ever!', 'July 31, 2021', 'Susan', \"Why wouldn't anyone like this item? Especially now.\", '5.0'], [\"I'll need a refund. It's got to be our hot temps?\", 'July 30, 2021', 'adrienne', 'Such a good deal love being stocked up', '1.0'], ['The real deal', 'July 30, 2021', 'Ghaziani', 'These are very good for class rooms.', '5.0'], ['Excellent', 'July 30, 2021', 'Jessica', 'I like these Clorox wipes for cleaning the bathroom. And they are requested on daughters school supply list.', '5.0'], ['Highly recommend', 'July 28, 2021', 'Alicia', 'Clorox products are always the best choice. No strong scent. No irritants. Highly recommend', '5.0'], ['This is a must', 'July 28, 2021', 'Fiesta', 'Nothing like Clorox products', '5.0'], ['Great for cleaning.', 'July 27, 2021', 'June', \"all the liquid was drained out of all three containers and the paper was peeling off the sides of each of them by the time and took the outer plastic off. They must have tipped inside of the box or got too hot inside the truck or something. I'm not sure.\", '5.0'], ['Super Clorox', 'July 27, 2021', 'Nene', 'The real deal. Its effective', '5.0'], ['clorox the wonder product for many uses', 'July 26, 2021', 'kathleen', 'Great price, product and service', '5.0']]\n"
     ]
    }
   ],
   "source": [
    "print(element_list)"
   ]
  },
  {
   "cell_type": "code",
   "execution_count": 23,
   "id": "3f4dcb0b",
   "metadata": {},
   "outputs": [],
   "source": [
    "date_list = []\n",
    "for p in range(len(date)):\n",
    "    date_list.append(date[p].text)"
   ]
  },
  {
   "cell_type": "code",
   "execution_count": 24,
   "id": "c671093b",
   "metadata": {},
   "outputs": [],
   "source": [
    "reviewer_list = []\n",
    "for q in range(len(reviewer)):\n",
    "    reviewer_list.append(reviewer[q].text)"
   ]
  },
  {
   "cell_type": "code",
   "execution_count": 25,
   "id": "457c4444",
   "metadata": {},
   "outputs": [],
   "source": [
    "title_list = []\n",
    "for r in range(len(title)):\n",
    "    title_list.append(title[r].text)"
   ]
  },
  {
   "cell_type": "code",
   "execution_count": 26,
   "id": "231354b7",
   "metadata": {},
   "outputs": [],
   "source": [
    "review_list = []\n",
    "for s in range(len(review)):\n",
    "    review_list.append(review[s].text)"
   ]
  },
  {
   "cell_type": "code",
   "execution_count": 27,
   "id": "784d895f",
   "metadata": {},
   "outputs": [],
   "source": [
    "rating_list = []\n",
    "for t in range(len(rating)):\n",
    "    rating_list.append(rating[t].text)"
   ]
  },
  {
   "cell_type": "code",
   "execution_count": 28,
   "id": "1b957b05",
   "metadata": {},
   "outputs": [],
   "source": [
    "data_tuples = list(zip(date_list[1:], reviewer_list[1:], title_list[1:], review_list[1:], rating_list[1:])) # list of each players name and salary paired together\n",
    "df = pd.DataFrame(data_tuples, columns=['Date', 'Reviewer Name', 'Title', 'Review', 'Rating'])"
   ]
  },
  {
   "cell_type": "code",
   "execution_count": 29,
   "id": "b6951cad",
   "metadata": {},
   "outputs": [
    {
     "data": {
      "text/html": [
       "<div>\n",
       "<style scoped>\n",
       "    .dataframe tbody tr th:only-of-type {\n",
       "        vertical-align: middle;\n",
       "    }\n",
       "\n",
       "    .dataframe tbody tr th {\n",
       "        vertical-align: top;\n",
       "    }\n",
       "\n",
       "    .dataframe thead th {\n",
       "        text-align: right;\n",
       "    }\n",
       "</style>\n",
       "<table border=\"1\" class=\"dataframe\">\n",
       "  <thead>\n",
       "    <tr style=\"text-align: right;\">\n",
       "      <th></th>\n",
       "      <th>Date</th>\n",
       "      <th>Reviewer Name</th>\n",
       "      <th>Title</th>\n",
       "      <th>Review</th>\n",
       "      <th>Rating</th>\n",
       "    </tr>\n",
       "  </thead>\n",
       "  <tbody>\n",
       "    <tr>\n",
       "      <th>0</th>\n",
       "      <td>August 1, 2021</td>\n",
       "      <td>Maryellen</td>\n",
       "      <td>Always the best</td>\n",
       "      <td>Very confident in using these wipes on surface...</td>\n",
       "      <td></td>\n",
       "    </tr>\n",
       "    <tr>\n",
       "      <th>1</th>\n",
       "      <td>July 31, 2021</td>\n",
       "      <td>Miriam</td>\n",
       "      <td>Very nice deal reasonably priced</td>\n",
       "      <td>They are early in more days. Thank you.</td>\n",
       "      <td></td>\n",
       "    </tr>\n",
       "    <tr>\n",
       "      <th>2</th>\n",
       "      <td>July 31, 2021</td>\n",
       "      <td>Susan</td>\n",
       "      <td>Hands Down The Best Wipe Ever!</td>\n",
       "      <td>Why wouldn't anyone like this item? Especially...</td>\n",
       "      <td>5.0</td>\n",
       "    </tr>\n",
       "    <tr>\n",
       "      <th>3</th>\n",
       "      <td>July 30, 2021</td>\n",
       "      <td>adrienne</td>\n",
       "      <td>I'll need a refund. It's got to be our hot temps?</td>\n",
       "      <td>Such a good deal love being stocked up</td>\n",
       "      <td>1.0</td>\n",
       "    </tr>\n",
       "    <tr>\n",
       "      <th>4</th>\n",
       "      <td>July 30, 2021</td>\n",
       "      <td>Ghaziani</td>\n",
       "      <td>The real deal</td>\n",
       "      <td>These are very good for class rooms.</td>\n",
       "      <td>5.0</td>\n",
       "    </tr>\n",
       "  </tbody>\n",
       "</table>\n",
       "</div>"
      ],
      "text/plain": [
       "             Date Reviewer Name  \\\n",
       "0  August 1, 2021     Maryellen   \n",
       "1   July 31, 2021        Miriam   \n",
       "2   July 31, 2021         Susan   \n",
       "3   July 30, 2021      adrienne   \n",
       "4   July 30, 2021      Ghaziani   \n",
       "\n",
       "                                               Title  \\\n",
       "0                                    Always the best   \n",
       "1                   Very nice deal reasonably priced   \n",
       "2                     Hands Down The Best Wipe Ever!   \n",
       "3  I'll need a refund. It's got to be our hot temps?   \n",
       "4                                      The real deal   \n",
       "\n",
       "                                              Review Rating  \n",
       "0  Very confident in using these wipes on surface...         \n",
       "1            They are early in more days. Thank you.         \n",
       "2  Why wouldn't anyone like this item? Especially...    5.0  \n",
       "3             Such a good deal love being stocked up    1.0  \n",
       "4               These are very good for class rooms.    5.0  "
      ]
     },
     "execution_count": 29,
     "metadata": {},
     "output_type": "execute_result"
    }
   ],
   "source": [
    "df.head()"
   ]
  },
  {
   "cell_type": "code",
   "execution_count": 30,
   "id": "776d922a",
   "metadata": {},
   "outputs": [
    {
     "data": {
      "text/plain": [
       "(11, 5)"
      ]
     },
     "execution_count": 30,
     "metadata": {},
     "output_type": "execute_result"
    }
   ],
   "source": [
    "df.shape"
   ]
  },
  {
   "cell_type": "code",
   "execution_count": null,
   "id": "5035c01f",
   "metadata": {},
   "outputs": [],
   "source": []
  }
 ],
 "metadata": {
  "kernelspec": {
   "display_name": "Python 3",
   "language": "python",
   "name": "python3"
  },
  "language_info": {
   "codemirror_mode": {
    "name": "ipython",
    "version": 3
   },
   "file_extension": ".py",
   "mimetype": "text/x-python",
   "name": "python",
   "nbconvert_exporter": "python",
   "pygments_lexer": "ipython3",
   "version": "3.8.10"
  }
 },
 "nbformat": 4,
 "nbformat_minor": 5
}
